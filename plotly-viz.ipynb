{
 "cells": [
  {
   "cell_type": "code",
   "execution_count": 3,
   "id": "d666896b",
   "metadata": {},
   "outputs": [],
   "source": [
    "import pandas as pd \n",
    "import numpy as np\n",
    "\n",
    "import plotly.express as px \n",
    "import plotly.graph_objects as go\n",
    "\n",
    "from plotly.subplots import make_subplots"
   ]
  },
  {
   "cell_type": "code",
   "execution_count": null,
   "id": "a0463186",
   "metadata": {},
   "outputs": [
    {
     "data": {
      "application/vnd.plotly.v1+json": {
       "config": {
        "plotlyServerURL": "https://plot.ly"
       },
       "data": [
        {
         "bingroup": "x",
         "hovertemplate": "sex=Female<br>total_bill=%{x}<br>count=%{y}<extra></extra>",
         "legendgroup": "Female",
         "marker": {
          "color": "#636efa",
          "pattern": {
           "shape": ""
          }
         },
         "name": "Female",
         "orientation": "v",
         "showlegend": true,
         "type": "histogram",
         "x": {
          "bdata": "PQrXo3D9MEDXo3A9Cpc4QOF6FK5HoUFAKVyPwvWoLUApXI/C9agkQLgehetR+DBACtejcD1KNEAK16NwPYovQGZmZmZmpjNAH4XrUbgeLkBxPQrXo7A0QK5H4XoU7jBAFK5H4XqUJEBI4XoUrmdBQClcj8L1aDpAMzMzMzNzMECPwvUoXI8IQFK4HoXrETFAXI/C9SjcOkBI4XoUrkc5QPYoXI/CdS1ApHA9CtcjJEAK16NwPWpBQAAAAAAAABdAUrgehetRMEAAAAAAAMA2QDMzMzMzsyZAw/UoXI/CLkBmZmZmZiZGQOxRuB6FazZA7FG4HoXrNEAfhetRuJ4sQAAAAAAAAB1A9ihcj8K1OUCPwvUoXE8xQM3MzMzMTCVAXI/C9SjcKEAUrkfhehQ4QNejcD0K1ypA9ihcj8L1KEDNzMzMzMw9QArXo3A9Ci1Aw/UoXI/CJkCF61G4HkU0QNejcD0KVyZAhetRuB6FKEDD9Shcj0IyQIXrUbgeBSFAKVyPwvWoJEDNzMzMzEwsQFK4HoXrUSpAuB6F61F4MUDNzMzMzAw7QK5H4XoUbjBAMzMzMzOzIECkcD0K16MyQD0K16NwvSdAmpmZmZnZPUAAAAAAAAA5QEjhehSuxypA9ihcj8I1MEDD9Shcj4IxQK5H4XoULiVAw/UoXI9CJUAzMzMzMzMjQGZmZmZm5jRAZmZmZmYmMkCPwvUoXM8zQK5H4XoUjkVAAAAAAAAAKkB7FK5H4XopQAAAAAAAACpAZmZmZmZmMEC4HoXrUXgwQIXrUbgehSlACtejcD2KKkDsUbgehSs8QM3MzMzMzClApHA9CtcjPkDXo3A9CtcqQPYoXI/C9S9AhetRuB5FMECuR+F6FC4kQB+F61G4HjZACtejcD3qQUCuR+F6FC47QEjhehSuxzJA",
          "dtype": "f8"
         },
         "xaxis": "x",
         "yaxis": "y"
        },
        {
         "customdata": [
          [
           1.01,
           "Female",
           "No",
           "Sun",
           "Dinner",
           2
          ],
          [
           3.61,
           "Female",
           "No",
           "Sun",
           "Dinner",
           4
          ],
          [
           5,
           "Female",
           "No",
           "Sun",
           "Dinner",
           4
          ],
          [
           3.02,
           "Female",
           "No",
           "Sun",
           "Dinner",
           2
          ],
          [
           1.67,
           "Female",
           "No",
           "Sun",
           "Dinner",
           3
          ],
          [
           3.5,
           "Female",
           "No",
           "Sun",
           "Dinner",
           3
          ],
          [
           2.75,
           "Female",
           "No",
           "Sat",
           "Dinner",
           2
          ],
          [
           2.23,
           "Female",
           "No",
           "Sat",
           "Dinner",
           2
          ],
          [
           3,
           "Female",
           "No",
           "Sat",
           "Dinner",
           2
          ],
          [
           3,
           "Female",
           "No",
           "Sat",
           "Dinner",
           2
          ],
          [
           2.45,
           "Female",
           "No",
           "Sat",
           "Dinner",
           4
          ],
          [
           3.07,
           "Female",
           "No",
           "Sat",
           "Dinner",
           3
          ],
          [
           2.6,
           "Female",
           "No",
           "Sun",
           "Dinner",
           2
          ],
          [
           5.2,
           "Female",
           "No",
           "Sun",
           "Dinner",
           4
          ],
          [
           1.5,
           "Female",
           "No",
           "Sat",
           "Dinner",
           2
          ],
          [
           2.47,
           "Female",
           "No",
           "Sat",
           "Dinner",
           2
          ],
          [
           1,
           "Female",
           "Yes",
           "Sat",
           "Dinner",
           1
          ],
          [
           3,
           "Female",
           "No",
           "Sat",
           "Dinner",
           3
          ],
          [
           3.14,
           "Female",
           "Yes",
           "Sat",
           "Dinner",
           2
          ],
          [
           5,
           "Female",
           "Yes",
           "Sat",
           "Dinner",
           2
          ],
          [
           2.2,
           "Female",
           "No",
           "Sat",
           "Dinner",
           2
          ],
          [
           1.83,
           "Female",
           "No",
           "Thur",
           "Lunch",
           1
          ],
          [
           5.17,
           "Female",
           "No",
           "Thur",
           "Lunch",
           4
          ],
          [
           1,
           "Female",
           "Yes",
           "Fri",
           "Dinner",
           2
          ],
          [
           4.3,
           "Female",
           "Yes",
           "Fri",
           "Dinner",
           2
          ],
          [
           3.25,
           "Female",
           "No",
           "Fri",
           "Dinner",
           2
          ],
          [
           2.5,
           "Female",
           "Yes",
           "Fri",
           "Dinner",
           2
          ],
          [
           3,
           "Female",
           "Yes",
           "Fri",
           "Dinner",
           2
          ],
          [
           2.5,
           "Female",
           "Yes",
           "Sat",
           "Dinner",
           3
          ],
          [
           3.48,
           "Female",
           "Yes",
           "Sat",
           "Dinner",
           2
          ],
          [
           4.08,
           "Female",
           "No",
           "Sat",
           "Dinner",
           2
          ],
          [
           4,
           "Female",
           "Yes",
           "Sat",
           "Dinner",
           2
          ],
          [
           1,
           "Female",
           "No",
           "Sat",
           "Dinner",
           1
          ],
          [
           4,
           "Female",
           "No",
           "Sun",
           "Dinner",
           3
          ],
          [
           3.5,
           "Female",
           "No",
           "Sun",
           "Dinner",
           2
          ],
          [
           1.5,
           "Female",
           "No",
           "Thur",
           "Lunch",
           2
          ],
          [
           1.8,
           "Female",
           "No",
           "Thur",
           "Lunch",
           2
          ],
          [
           2.92,
           "Female",
           "No",
           "Thur",
           "Lunch",
           4
          ],
          [
           1.68,
           "Female",
           "No",
           "Thur",
           "Lunch",
           2
          ],
          [
           2.52,
           "Female",
           "No",
           "Thur",
           "Lunch",
           2
          ],
          [
           4.2,
           "Female",
           "No",
           "Thur",
           "Lunch",
           6
          ],
          [
           2,
           "Female",
           "No",
           "Thur",
           "Lunch",
           2
          ],
          [
           2,
           "Female",
           "No",
           "Thur",
           "Lunch",
           2
          ],
          [
           2.83,
           "Female",
           "No",
           "Thur",
           "Lunch",
           2
          ],
          [
           1.5,
           "Female",
           "No",
           "Thur",
           "Lunch",
           2
          ],
          [
           2,
           "Female",
           "No",
           "Thur",
           "Lunch",
           2
          ],
          [
           3.25,
           "Female",
           "No",
           "Thur",
           "Lunch",
           2
          ],
          [
           1.25,
           "Female",
           "No",
           "Thur",
           "Lunch",
           2
          ],
          [
           2,
           "Female",
           "No",
           "Thur",
           "Lunch",
           2
          ],
          [
           2,
           "Female",
           "No",
           "Thur",
           "Lunch",
           2
          ],
          [
           2.75,
           "Female",
           "No",
           "Thur",
           "Lunch",
           2
          ],
          [
           3.5,
           "Female",
           "No",
           "Thur",
           "Lunch",
           2
          ],
          [
           5,
           "Female",
           "No",
           "Thur",
           "Lunch",
           6
          ],
          [
           2.3,
           "Female",
           "No",
           "Thur",
           "Lunch",
           2
          ],
          [
           1.5,
           "Female",
           "No",
           "Thur",
           "Lunch",
           2
          ],
          [
           1.36,
           "Female",
           "No",
           "Thur",
           "Lunch",
           3
          ],
          [
           1.63,
           "Female",
           "No",
           "Thur",
           "Lunch",
           2
          ],
          [
           5.14,
           "Female",
           "No",
           "Sun",
           "Dinner",
           5
          ],
          [
           3.75,
           "Female",
           "No",
           "Sun",
           "Dinner",
           4
          ],
          [
           2.61,
           "Female",
           "No",
           "Sun",
           "Dinner",
           2
          ],
          [
           2,
           "Female",
           "No",
           "Sun",
           "Dinner",
           3
          ],
          [
           3,
           "Female",
           "Yes",
           "Sun",
           "Dinner",
           2
          ],
          [
           1.61,
           "Female",
           "Yes",
           "Sat",
           "Dinner",
           2
          ],
          [
           2,
           "Female",
           "Yes",
           "Sat",
           "Dinner",
           2
          ],
          [
           4,
           "Female",
           "Yes",
           "Sun",
           "Dinner",
           2
          ],
          [
           3.5,
           "Female",
           "Yes",
           "Sun",
           "Dinner",
           3
          ],
          [
           3.5,
           "Female",
           "Yes",
           "Sun",
           "Dinner",
           3
          ],
          [
           4.19,
           "Female",
           "Yes",
           "Thur",
           "Lunch",
           2
          ],
          [
           5,
           "Female",
           "Yes",
           "Thur",
           "Lunch",
           4
          ],
          [
           2,
           "Female",
           "Yes",
           "Thur",
           "Lunch",
           2
          ],
          [
           2.01,
           "Female",
           "Yes",
           "Thur",
           "Lunch",
           2
          ],
          [
           2,
           "Female",
           "Yes",
           "Thur",
           "Lunch",
           2
          ],
          [
           2.5,
           "Female",
           "Yes",
           "Thur",
           "Lunch",
           2
          ],
          [
           3.23,
           "Female",
           "Yes",
           "Thur",
           "Lunch",
           3
          ],
          [
           2.23,
           "Female",
           "Yes",
           "Sat",
           "Dinner",
           2
          ],
          [
           2.5,
           "Female",
           "Yes",
           "Sat",
           "Dinner",
           2
          ],
          [
           6.5,
           "Female",
           "Yes",
           "Sat",
           "Dinner",
           3
          ],
          [
           1.1,
           "Female",
           "Yes",
           "Sat",
           "Dinner",
           2
          ],
          [
           3.09,
           "Female",
           "Yes",
           "Sat",
           "Dinner",
           4
          ],
          [
           3.48,
           "Female",
           "Yes",
           "Fri",
           "Lunch",
           2
          ],
          [
           3,
           "Female",
           "No",
           "Fri",
           "Lunch",
           3
          ],
          [
           2.5,
           "Female",
           "Yes",
           "Fri",
           "Lunch",
           2
          ],
          [
           2,
           "Female",
           "Yes",
           "Fri",
           "Lunch",
           2
          ],
          [
           2.88,
           "Female",
           "Yes",
           "Sat",
           "Dinner",
           2
          ],
          [
           4.67,
           "Female",
           "No",
           "Sat",
           "Dinner",
           3
          ],
          [
           2,
           "Female",
           "Yes",
           "Sat",
           "Dinner",
           2
          ],
          [
           3,
           "Female",
           "No",
           "Thur",
           "Dinner",
           2
          ]
         ],
         "hovertemplate": "sex=%{customdata[1]}<br>total_bill=%{x}<br>tip=%{customdata[0]}<br>smoker=%{customdata[2]}<br>day=%{customdata[3]}<br>time=%{customdata[4]}<br>size=%{customdata[5]}<extra></extra>",
         "legendgroup": "Female",
         "marker": {
          "color": "#636efa"
         },
         "name": "Female",
         "notched": true,
         "showlegend": false,
         "type": "box",
         "x": {
          "bdata": "PQrXo3D9MEDXo3A9Cpc4QOF6FK5HoUFAKVyPwvWoLUApXI/C9agkQLgehetR+DBACtejcD1KNEAK16NwPYovQGZmZmZmpjNAH4XrUbgeLkBxPQrXo7A0QK5H4XoU7jBAFK5H4XqUJEBI4XoUrmdBQClcj8L1aDpAMzMzMzNzMECPwvUoXI8IQFK4HoXrETFAXI/C9SjcOkBI4XoUrkc5QPYoXI/CdS1ApHA9CtcjJEAK16NwPWpBQAAAAAAAABdAUrgehetRMEAAAAAAAMA2QDMzMzMzsyZAw/UoXI/CLkBmZmZmZiZGQOxRuB6FazZA7FG4HoXrNEAfhetRuJ4sQAAAAAAAAB1A9ihcj8K1OUCPwvUoXE8xQM3MzMzMTCVAXI/C9SjcKEAUrkfhehQ4QNejcD0K1ypA9ihcj8L1KEDNzMzMzMw9QArXo3A9Ci1Aw/UoXI/CJkCF61G4HkU0QNejcD0KVyZAhetRuB6FKEDD9Shcj0IyQIXrUbgeBSFAKVyPwvWoJEDNzMzMzEwsQFK4HoXrUSpAuB6F61F4MUDNzMzMzAw7QK5H4XoUbjBAMzMzMzOzIECkcD0K16MyQD0K16NwvSdAmpmZmZnZPUAAAAAAAAA5QEjhehSuxypA9ihcj8I1MEDD9Shcj4IxQK5H4XoULiVAw/UoXI9CJUAzMzMzMzMjQGZmZmZm5jRAZmZmZmYmMkCPwvUoXM8zQK5H4XoUjkVAAAAAAAAAKkB7FK5H4XopQAAAAAAAACpAZmZmZmZmMEC4HoXrUXgwQIXrUbgehSlACtejcD2KKkDsUbgehSs8QM3MzMzMzClApHA9CtcjPkDXo3A9CtcqQPYoXI/C9S9AhetRuB5FMECuR+F6FC4kQB+F61G4HjZACtejcD3qQUCuR+F6FC47QEjhehSuxzJA",
          "dtype": "f8"
         },
         "xaxis": "x2",
         "yaxis": "y2"
        },
        {
         "bingroup": "x",
         "hovertemplate": "sex=Male<br>total_bill=%{x}<br>count=%{y}<extra></extra>",
         "legendgroup": "Male",
         "marker": {
          "color": "#EF553B",
          "pattern": {
           "shape": ""
          }
         },
         "name": "Male",
         "orientation": "v",
         "showlegend": true,
         "type": "histogram",
         "x": {
          "bdata": "rkfhehSuJEDD9ShcjwI1QK5H4XoUrjdACtejcD1KOUAK16NwPYohQOF6FK5H4TpAFK5H4XoULkCPwvUoXI8tQArXo3A9iiRA16NwPQrXLkCuR+F6FG4yQBSuR+F6lDVACtejcD1KMEBmZmZmZqY0QOxRuB6F6zFA9ihcj8K1Q0BSuB6F69EzQI/C9ShczzFAPQrXo3C9KkDhehSuR2EpQDMzMzMzszVAmpmZmZkZI0CamZmZmVkyQEjhehSuxzFAj8L1KFwPOECPwvUoXE8wQHE9CtejsDJAhetRuB5FP0AK16NwPQowQPYoXI/CdTFA4XoUrkfhK0Bcj8L1KFwjQGZmZmZmZj5ACtejcD1KMkB7FK5H4To2QDMzMzMzM0BAzczMzMyMPEAK16NwPQoyQBSuR+F6FClA4XoUrkfhI0CPwvUoXI85QD0K16NwfTNA4XoUrkcBQ0B7FK5H4XomQMP1KFyPIkhACtejcD1KNEAfhetRuJ4rQArXo3A9CiZACtejcD1KMkDXo3A9CpcxQBSuR+F6FDRAexSuR+E6NECF61G4HgUuQArXo3A9CihAhetRuB4FJUDsUbgehesxQDMzMzMzMztAw/UoXI/CNkAK16NwPUoxQHE9CtejcDNAKVyPwvWoMEDXo3A9CldAQPYoXI/C9S9Aj8L1KFwPKkBI4XoUrkcyQPYoXI/CtThAKVyPwvUoNUC4HoXrUfg8QD0K16NwfTZA9ihcj8IVREBI4XoUrkc7QI/C9ShcDyhAw/UoXI8CNUDsUbgehesoQLgehetRuC5APQrXo3B9NED2KFyPwjU5QD0K16NwPTJAAAAAAAAALEApXI/C9QhDQDMzMzMz8zdArkfhehTuPUDhehSuR2EnQIXrUbgehSxAZmZmZmbmL0AK16NwPQohQFK4HoXr0TZAFK5H4XoUM0AAAAAAAAAwQGZmZmZmJkFAuB6F61GYRECPwvUoXI8jQArXo3A9Ch5ApHA9CtcjLEDD9Shcj0IqQMP1KFyPQjFAzczMzMyMOECF61G4HsUzQPYoXI/CFUhAPQrXo3B9MEAAAAAAAIA1QFK4HoXrUSlAH4XrUbieK0CF61G4HoU4QMP1KFyPwjRA9ihcj8K1P0BI4XoUrmdJQB+F61G4ni9AAAAAAAAAHUCamZmZmdk/QFK4HoXr0TBAMzMzMzNzQECkcD0K1+MxQPYoXI/C9SxAcT0K16NQQUAzMzMzM1NBQBSuR+F6VDdAzczMzMysRkDsUbgehSs3QGZmZmZmRkRAcT0K16OwNED2KFyPwnU+QJqZmZmZGTdA4XoUrkdhL0BxPQrXo3A8QPYoXI/C9S5AFK5H4XqUMEA9CtejcD0eQK5H4XoUriRAhetRuB4FK0D2KFyPwrUyQEjhehSuhzRA16NwPQqXOkA9CtejcF1DQIXrUbgeRThAj8L1KFwPPkCkcD0K1+M5QArXo3A9KkhAZmZmZmYmPECuR+F6FC4nQPYoXI/C9R5AUrgehetRKEApXI/C9SghQNejcD0K1ypAMzMzMzNzNECPwvUoXI8qQMP1KFyPAjhA4XoUrkdhL0C4HoXrUTgnQArXo3A9iiVAj8L1KFwPL0CkcD0K1yMkQDMzMzMzMylACtejcD1qQEBI4XoUrgc9QOxRuB6FqzZAUrgehevRMUA=",
          "dtype": "f8"
         },
         "xaxis": "x",
         "yaxis": "y"
        },
        {
         "customdata": [
          [
           1.66,
           "Male",
           "No",
           "Sun",
           "Dinner",
           3
          ],
          [
           3.5,
           "Male",
           "No",
           "Sun",
           "Dinner",
           3
          ],
          [
           3.31,
           "Male",
           "No",
           "Sun",
           "Dinner",
           2
          ],
          [
           4.71,
           "Male",
           "No",
           "Sun",
           "Dinner",
           4
          ],
          [
           2,
           "Male",
           "No",
           "Sun",
           "Dinner",
           2
          ],
          [
           3.12,
           "Male",
           "No",
           "Sun",
           "Dinner",
           4
          ],
          [
           1.96,
           "Male",
           "No",
           "Sun",
           "Dinner",
           2
          ],
          [
           3.23,
           "Male",
           "No",
           "Sun",
           "Dinner",
           2
          ],
          [
           1.71,
           "Male",
           "No",
           "Sun",
           "Dinner",
           2
          ],
          [
           1.57,
           "Male",
           "No",
           "Sun",
           "Dinner",
           2
          ],
          [
           3,
           "Male",
           "No",
           "Sun",
           "Dinner",
           4
          ],
          [
           3.92,
           "Male",
           "No",
           "Sun",
           "Dinner",
           2
          ],
          [
           3.71,
           "Male",
           "No",
           "Sun",
           "Dinner",
           3
          ],
          [
           3.35,
           "Male",
           "No",
           "Sat",
           "Dinner",
           3
          ],
          [
           4.08,
           "Male",
           "No",
           "Sat",
           "Dinner",
           2
          ],
          [
           7.58,
           "Male",
           "No",
           "Sat",
           "Dinner",
           4
          ],
          [
           3.18,
           "Male",
           "No",
           "Sat",
           "Dinner",
           2
          ],
          [
           2.34,
           "Male",
           "No",
           "Sat",
           "Dinner",
           4
          ],
          [
           2,
           "Male",
           "No",
           "Sat",
           "Dinner",
           2
          ],
          [
           2,
           "Male",
           "No",
           "Sat",
           "Dinner",
           2
          ],
          [
           4.3,
           "Male",
           "No",
           "Sat",
           "Dinner",
           2
          ],
          [
           1.45,
           "Male",
           "No",
           "Sat",
           "Dinner",
           2
          ],
          [
           2.5,
           "Male",
           "No",
           "Sat",
           "Dinner",
           4
          ],
          [
           3.27,
           "Male",
           "No",
           "Sat",
           "Dinner",
           2
          ],
          [
           3.6,
           "Male",
           "No",
           "Sat",
           "Dinner",
           3
          ],
          [
           2,
           "Male",
           "No",
           "Sat",
           "Dinner",
           3
          ],
          [
           2.31,
           "Male",
           "No",
           "Sat",
           "Dinner",
           3
          ],
          [
           5,
           "Male",
           "No",
           "Sat",
           "Dinner",
           3
          ],
          [
           2.24,
           "Male",
           "No",
           "Sat",
           "Dinner",
           3
          ],
          [
           2.54,
           "Male",
           "No",
           "Sun",
           "Dinner",
           2
          ],
          [
           3.06,
           "Male",
           "No",
           "Sun",
           "Dinner",
           2
          ],
          [
           1.32,
           "Male",
           "No",
           "Sun",
           "Dinner",
           2
          ],
          [
           5.6,
           "Male",
           "No",
           "Sun",
           "Dinner",
           4
          ],
          [
           3,
           "Male",
           "No",
           "Sun",
           "Dinner",
           2
          ],
          [
           5,
           "Male",
           "No",
           "Sun",
           "Dinner",
           2
          ],
          [
           6,
           "Male",
           "No",
           "Sun",
           "Dinner",
           4
          ],
          [
           2.05,
           "Male",
           "No",
           "Sun",
           "Dinner",
           3
          ],
          [
           3,
           "Male",
           "No",
           "Sun",
           "Dinner",
           2
          ],
          [
           2.5,
           "Male",
           "No",
           "Sun",
           "Dinner",
           2
          ],
          [
           1.56,
           "Male",
           "No",
           "Sun",
           "Dinner",
           2
          ],
          [
           4.34,
           "Male",
           "No",
           "Sun",
           "Dinner",
           4
          ],
          [
           3.51,
           "Male",
           "No",
           "Sun",
           "Dinner",
           2
          ],
          [
           3,
           "Male",
           "Yes",
           "Sat",
           "Dinner",
           4
          ],
          [
           1.76,
           "Male",
           "Yes",
           "Sat",
           "Dinner",
           2
          ],
          [
           6.73,
           "Male",
           "No",
           "Sat",
           "Dinner",
           4
          ],
          [
           3.21,
           "Male",
           "Yes",
           "Sat",
           "Dinner",
           2
          ],
          [
           2,
           "Male",
           "Yes",
           "Sat",
           "Dinner",
           2
          ],
          [
           1.98,
           "Male",
           "Yes",
           "Sat",
           "Dinner",
           2
          ],
          [
           3.76,
           "Male",
           "Yes",
           "Sat",
           "Dinner",
           4
          ],
          [
           2.64,
           "Male",
           "No",
           "Sat",
           "Dinner",
           3
          ],
          [
           3.15,
           "Male",
           "No",
           "Sat",
           "Dinner",
           3
          ],
          [
           2.01,
           "Male",
           "No",
           "Sat",
           "Dinner",
           2
          ],
          [
           2.09,
           "Male",
           "Yes",
           "Sat",
           "Dinner",
           2
          ],
          [
           1.97,
           "Male",
           "No",
           "Sat",
           "Dinner",
           2
          ],
          [
           1.25,
           "Male",
           "No",
           "Sat",
           "Dinner",
           2
          ],
          [
           3.08,
           "Male",
           "Yes",
           "Sat",
           "Dinner",
           2
          ],
          [
           4,
           "Male",
           "No",
           "Thur",
           "Lunch",
           4
          ],
          [
           3,
           "Male",
           "No",
           "Thur",
           "Lunch",
           2
          ],
          [
           2.71,
           "Male",
           "No",
           "Thur",
           "Lunch",
           2
          ],
          [
           3,
           "Male",
           "Yes",
           "Thur",
           "Lunch",
           2
          ],
          [
           3.4,
           "Male",
           "No",
           "Thur",
           "Lunch",
           2
          ],
          [
           5,
           "Male",
           "Yes",
           "Thur",
           "Lunch",
           2
          ],
          [
           2.03,
           "Male",
           "No",
           "Thur",
           "Lunch",
           2
          ],
          [
           2,
           "Male",
           "No",
           "Thur",
           "Lunch",
           2
          ],
          [
           4,
           "Male",
           "No",
           "Thur",
           "Lunch",
           2
          ],
          [
           5.85,
           "Male",
           "No",
           "Thur",
           "Lunch",
           2
          ],
          [
           3,
           "Male",
           "No",
           "Thur",
           "Lunch",
           2
          ],
          [
           3,
           "Male",
           "Yes",
           "Fri",
           "Dinner",
           2
          ],
          [
           3.5,
           "Male",
           "No",
           "Fri",
           "Dinner",
           2
          ],
          [
           4.73,
           "Male",
           "Yes",
           "Fri",
           "Dinner",
           4
          ],
          [
           4,
           "Male",
           "Yes",
           "Fri",
           "Dinner",
           2
          ],
          [
           1.5,
           "Male",
           "Yes",
           "Fri",
           "Dinner",
           2
          ],
          [
           3,
           "Male",
           "Yes",
           "Fri",
           "Dinner",
           2
          ],
          [
           1.5,
           "Male",
           "No",
           "Fri",
           "Dinner",
           2
          ],
          [
           1.64,
           "Male",
           "Yes",
           "Sat",
           "Dinner",
           2
          ],
          [
           4.06,
           "Male",
           "Yes",
           "Sat",
           "Dinner",
           2
          ],
          [
           4.29,
           "Male",
           "Yes",
           "Sat",
           "Dinner",
           2
          ],
          [
           3.76,
           "Male",
           "No",
           "Sat",
           "Dinner",
           2
          ],
          [
           3,
           "Male",
           "No",
           "Sat",
           "Dinner",
           2
          ],
          [
           4,
           "Male",
           "No",
           "Sun",
           "Dinner",
           3
          ],
          [
           2.55,
           "Male",
           "No",
           "Sun",
           "Dinner",
           2
          ],
          [
           5.07,
           "Male",
           "No",
           "Sun",
           "Dinner",
           4
          ],
          [
           2.31,
           "Male",
           "No",
           "Thur",
           "Lunch",
           2
          ],
          [
           2.5,
           "Male",
           "No",
           "Thur",
           "Lunch",
           2
          ],
          [
           2,
           "Male",
           "No",
           "Thur",
           "Lunch",
           2
          ],
          [
           1.48,
           "Male",
           "No",
           "Thur",
           "Lunch",
           2
          ],
          [
           2.18,
           "Male",
           "No",
           "Thur",
           "Lunch",
           3
          ],
          [
           1.5,
           "Male",
           "No",
           "Thur",
           "Lunch",
           2
          ],
          [
           2,
           "Male",
           "Yes",
           "Thur",
           "Lunch",
           2
          ],
          [
           6.7,
           "Male",
           "No",
           "Thur",
           "Lunch",
           6
          ],
          [
           5,
           "Male",
           "No",
           "Thur",
           "Lunch",
           5
          ],
          [
           1.73,
           "Male",
           "No",
           "Thur",
           "Lunch",
           2
          ],
          [
           2,
           "Male",
           "No",
           "Thur",
           "Lunch",
           2
          ],
          [
           2.5,
           "Male",
           "No",
           "Sun",
           "Dinner",
           2
          ],
          [
           2,
           "Male",
           "No",
           "Sun",
           "Dinner",
           2
          ],
          [
           2.74,
           "Male",
           "No",
           "Sun",
           "Dinner",
           3
          ],
          [
           2,
           "Male",
           "No",
           "Sun",
           "Dinner",
           4
          ],
          [
           2,
           "Male",
           "No",
           "Sun",
           "Dinner",
           4
          ],
          [
           5,
           "Male",
           "No",
           "Sun",
           "Dinner",
           6
          ],
          [
           2,
           "Male",
           "No",
           "Sun",
           "Dinner",
           4
          ],
          [
           3.5,
           "Male",
           "No",
           "Sun",
           "Dinner",
           4
          ],
          [
           2.5,
           "Male",
           "No",
           "Sun",
           "Dinner",
           2
          ],
          [
           2,
           "Male",
           "No",
           "Sun",
           "Dinner",
           2
          ],
          [
           3.48,
           "Male",
           "No",
           "Sun",
           "Dinner",
           3
          ],
          [
           2.24,
           "Male",
           "No",
           "Sun",
           "Dinner",
           2
          ],
          [
           4.5,
           "Male",
           "No",
           "Sun",
           "Dinner",
           4
          ],
          [
           10,
           "Male",
           "Yes",
           "Sat",
           "Dinner",
           3
          ],
          [
           3.16,
           "Male",
           "Yes",
           "Sat",
           "Dinner",
           2
          ],
          [
           5.15,
           "Male",
           "Yes",
           "Sun",
           "Dinner",
           2
          ],
          [
           3.18,
           "Male",
           "Yes",
           "Sun",
           "Dinner",
           2
          ],
          [
           4,
           "Male",
           "Yes",
           "Sun",
           "Dinner",
           2
          ],
          [
           3.11,
           "Male",
           "Yes",
           "Sun",
           "Dinner",
           2
          ],
          [
           2,
           "Male",
           "Yes",
           "Sun",
           "Dinner",
           2
          ],
          [
           2,
           "Male",
           "Yes",
           "Sun",
           "Dinner",
           2
          ],
          [
           3.55,
           "Male",
           "Yes",
           "Sun",
           "Dinner",
           2
          ],
          [
           3.68,
           "Male",
           "Yes",
           "Sun",
           "Dinner",
           4
          ],
          [
           5.65,
           "Male",
           "Yes",
           "Sun",
           "Dinner",
           2
          ],
          [
           3.5,
           "Male",
           "Yes",
           "Sun",
           "Dinner",
           3
          ],
          [
           6.5,
           "Male",
           "Yes",
           "Sun",
           "Dinner",
           4
          ],
          [
           3,
           "Male",
           "Yes",
           "Sun",
           "Dinner",
           2
          ],
          [
           5,
           "Male",
           "No",
           "Sun",
           "Dinner",
           5
          ],
          [
           2,
           "Male",
           "Yes",
           "Sun",
           "Dinner",
           5
          ],
          [
           4,
           "Male",
           "Yes",
           "Sun",
           "Dinner",
           3
          ],
          [
           1.5,
           "Male",
           "Yes",
           "Sun",
           "Dinner",
           2
          ],
          [
           2.56,
           "Male",
           "Yes",
           "Thur",
           "Lunch",
           2
          ],
          [
           2.02,
           "Male",
           "Yes",
           "Thur",
           "Lunch",
           2
          ],
          [
           4,
           "Male",
           "Yes",
           "Thur",
           "Lunch",
           2
          ],
          [
           1.44,
           "Male",
           "No",
           "Thur",
           "Lunch",
           2
          ],
          [
           2,
           "Male",
           "Yes",
           "Thur",
           "Lunch",
           2
          ],
          [
           2,
           "Male",
           "Yes",
           "Thur",
           "Lunch",
           2
          ],
          [
           4,
           "Male",
           "Yes",
           "Thur",
           "Lunch",
           3
          ],
          [
           4,
           "Male",
           "Yes",
           "Thur",
           "Lunch",
           4
          ],
          [
           3.41,
           "Male",
           "Yes",
           "Sat",
           "Dinner",
           3
          ],
          [
           3,
           "Male",
           "Yes",
           "Sat",
           "Dinner",
           4
          ],
          [
           2.03,
           "Male",
           "Yes",
           "Sat",
           "Dinner",
           2
          ],
          [
           2,
           "Male",
           "Yes",
           "Sat",
           "Dinner",
           3
          ],
          [
           5.16,
           "Male",
           "Yes",
           "Sat",
           "Dinner",
           4
          ],
          [
           9,
           "Male",
           "No",
           "Sat",
           "Dinner",
           4
          ],
          [
           3,
           "Male",
           "Yes",
           "Sat",
           "Dinner",
           5
          ],
          [
           1.5,
           "Male",
           "Yes",
           "Sat",
           "Dinner",
           2
          ],
          [
           1.44,
           "Male",
           "Yes",
           "Sat",
           "Dinner",
           2
          ],
          [
           2.2,
           "Male",
           "Yes",
           "Fri",
           "Lunch",
           2
          ],
          [
           1.92,
           "Male",
           "Yes",
           "Fri",
           "Lunch",
           1
          ],
          [
           1.58,
           "Male",
           "Yes",
           "Fri",
           "Lunch",
           2
          ],
          [
           3,
           "Male",
           "No",
           "Sat",
           "Dinner",
           4
          ],
          [
           2.72,
           "Male",
           "No",
           "Sat",
           "Dinner",
           2
          ],
          [
           2,
           "Male",
           "Yes",
           "Sat",
           "Dinner",
           4
          ],
          [
           3,
           "Male",
           "Yes",
           "Sat",
           "Dinner",
           3
          ],
          [
           3.39,
           "Male",
           "No",
           "Sat",
           "Dinner",
           2
          ],
          [
           1.47,
           "Male",
           "No",
           "Sat",
           "Dinner",
           2
          ],
          [
           3,
           "Male",
           "Yes",
           "Sat",
           "Dinner",
           2
          ],
          [
           1.25,
           "Male",
           "No",
           "Sat",
           "Dinner",
           2
          ],
          [
           1,
           "Male",
           "Yes",
           "Sat",
           "Dinner",
           2
          ],
          [
           1.17,
           "Male",
           "Yes",
           "Sat",
           "Dinner",
           2
          ],
          [
           5.92,
           "Male",
           "No",
           "Sat",
           "Dinner",
           3
          ],
          [
           2,
           "Male",
           "Yes",
           "Sat",
           "Dinner",
           2
          ],
          [
           1.75,
           "Male",
           "No",
           "Sat",
           "Dinner",
           2
          ]
         ],
         "hovertemplate": "sex=%{customdata[1]}<br>total_bill=%{x}<br>tip=%{customdata[0]}<br>smoker=%{customdata[2]}<br>day=%{customdata[3]}<br>time=%{customdata[4]}<br>size=%{customdata[5]}<extra></extra>",
         "legendgroup": "Male",
         "marker": {
          "color": "#EF553B"
         },
         "name": "Male",
         "notched": true,
         "showlegend": false,
         "type": "box",
         "x": {
          "bdata": "rkfhehSuJEDD9ShcjwI1QK5H4XoUrjdACtejcD1KOUAK16NwPYohQOF6FK5H4TpAFK5H4XoULkCPwvUoXI8tQArXo3A9iiRA16NwPQrXLkCuR+F6FG4yQBSuR+F6lDVACtejcD1KMEBmZmZmZqY0QOxRuB6F6zFA9ihcj8K1Q0BSuB6F69EzQI/C9ShczzFAPQrXo3C9KkDhehSuR2EpQDMzMzMzszVAmpmZmZkZI0CamZmZmVkyQEjhehSuxzFAj8L1KFwPOECPwvUoXE8wQHE9CtejsDJAhetRuB5FP0AK16NwPQowQPYoXI/CdTFA4XoUrkfhK0Bcj8L1KFwjQGZmZmZmZj5ACtejcD1KMkB7FK5H4To2QDMzMzMzM0BAzczMzMyMPEAK16NwPQoyQBSuR+F6FClA4XoUrkfhI0CPwvUoXI85QD0K16NwfTNA4XoUrkcBQ0B7FK5H4XomQMP1KFyPIkhACtejcD1KNEAfhetRuJ4rQArXo3A9CiZACtejcD1KMkDXo3A9CpcxQBSuR+F6FDRAexSuR+E6NECF61G4HgUuQArXo3A9CihAhetRuB4FJUDsUbgehesxQDMzMzMzMztAw/UoXI/CNkAK16NwPUoxQHE9CtejcDNAKVyPwvWoMEDXo3A9CldAQPYoXI/C9S9Aj8L1KFwPKkBI4XoUrkcyQPYoXI/CtThAKVyPwvUoNUC4HoXrUfg8QD0K16NwfTZA9ihcj8IVREBI4XoUrkc7QI/C9ShcDyhAw/UoXI8CNUDsUbgehesoQLgehetRuC5APQrXo3B9NED2KFyPwjU5QD0K16NwPTJAAAAAAAAALEApXI/C9QhDQDMzMzMz8zdArkfhehTuPUDhehSuR2EnQIXrUbgehSxAZmZmZmbmL0AK16NwPQohQFK4HoXr0TZAFK5H4XoUM0AAAAAAAAAwQGZmZmZmJkFAuB6F61GYRECPwvUoXI8jQArXo3A9Ch5ApHA9CtcjLEDD9Shcj0IqQMP1KFyPQjFAzczMzMyMOECF61G4HsUzQPYoXI/CFUhAPQrXo3B9MEAAAAAAAIA1QFK4HoXrUSlAH4XrUbieK0CF61G4HoU4QMP1KFyPwjRA9ihcj8K1P0BI4XoUrmdJQB+F61G4ni9AAAAAAAAAHUCamZmZmdk/QFK4HoXr0TBAMzMzMzNzQECkcD0K1+MxQPYoXI/C9SxAcT0K16NQQUAzMzMzM1NBQBSuR+F6VDdAzczMzMysRkDsUbgehSs3QGZmZmZmRkRAcT0K16OwNED2KFyPwnU+QJqZmZmZGTdA4XoUrkdhL0BxPQrXo3A8QPYoXI/C9S5AFK5H4XqUMEA9CtejcD0eQK5H4XoUriRAhetRuB4FK0D2KFyPwrUyQEjhehSuhzRA16NwPQqXOkA9CtejcF1DQIXrUbgeRThAj8L1KFwPPkCkcD0K1+M5QArXo3A9KkhAZmZmZmYmPECuR+F6FC4nQPYoXI/C9R5AUrgehetRKEApXI/C9SghQNejcD0K1ypAMzMzMzNzNECPwvUoXI8qQMP1KFyPAjhA4XoUrkdhL0C4HoXrUTgnQArXo3A9iiVAj8L1KFwPL0CkcD0K1yMkQDMzMzMzMylACtejcD1qQEBI4XoUrgc9QOxRuB6FqzZAUrgehevRMUA=",
          "dtype": "f8"
         },
         "xaxis": "x2",
         "yaxis": "y2"
        }
       ],
       "layout": {
        "barmode": "relative",
        "legend": {
         "title": {
          "text": "sex"
         },
         "tracegroupgap": 0
        },
        "margin": {
         "t": 60
        },
        "template": {
         "data": {
          "bar": [
           {
            "error_x": {
             "color": "#2a3f5f"
            },
            "error_y": {
             "color": "#2a3f5f"
            },
            "marker": {
             "line": {
              "color": "#E5ECF6",
              "width": 0.5
             },
             "pattern": {
              "fillmode": "overlay",
              "size": 10,
              "solidity": 0.2
             }
            },
            "type": "bar"
           }
          ],
          "barpolar": [
           {
            "marker": {
             "line": {
              "color": "#E5ECF6",
              "width": 0.5
             },
             "pattern": {
              "fillmode": "overlay",
              "size": 10,
              "solidity": 0.2
             }
            },
            "type": "barpolar"
           }
          ],
          "carpet": [
           {
            "aaxis": {
             "endlinecolor": "#2a3f5f",
             "gridcolor": "white",
             "linecolor": "white",
             "minorgridcolor": "white",
             "startlinecolor": "#2a3f5f"
            },
            "baxis": {
             "endlinecolor": "#2a3f5f",
             "gridcolor": "white",
             "linecolor": "white",
             "minorgridcolor": "white",
             "startlinecolor": "#2a3f5f"
            },
            "type": "carpet"
           }
          ],
          "choropleth": [
           {
            "colorbar": {
             "outlinewidth": 0,
             "ticks": ""
            },
            "type": "choropleth"
           }
          ],
          "contour": [
           {
            "colorbar": {
             "outlinewidth": 0,
             "ticks": ""
            },
            "colorscale": [
             [
              0,
              "#0d0887"
             ],
             [
              0.1111111111111111,
              "#46039f"
             ],
             [
              0.2222222222222222,
              "#7201a8"
             ],
             [
              0.3333333333333333,
              "#9c179e"
             ],
             [
              0.4444444444444444,
              "#bd3786"
             ],
             [
              0.5555555555555556,
              "#d8576b"
             ],
             [
              0.6666666666666666,
              "#ed7953"
             ],
             [
              0.7777777777777778,
              "#fb9f3a"
             ],
             [
              0.8888888888888888,
              "#fdca26"
             ],
             [
              1,
              "#f0f921"
             ]
            ],
            "type": "contour"
           }
          ],
          "contourcarpet": [
           {
            "colorbar": {
             "outlinewidth": 0,
             "ticks": ""
            },
            "type": "contourcarpet"
           }
          ],
          "heatmap": [
           {
            "colorbar": {
             "outlinewidth": 0,
             "ticks": ""
            },
            "colorscale": [
             [
              0,
              "#0d0887"
             ],
             [
              0.1111111111111111,
              "#46039f"
             ],
             [
              0.2222222222222222,
              "#7201a8"
             ],
             [
              0.3333333333333333,
              "#9c179e"
             ],
             [
              0.4444444444444444,
              "#bd3786"
             ],
             [
              0.5555555555555556,
              "#d8576b"
             ],
             [
              0.6666666666666666,
              "#ed7953"
             ],
             [
              0.7777777777777778,
              "#fb9f3a"
             ],
             [
              0.8888888888888888,
              "#fdca26"
             ],
             [
              1,
              "#f0f921"
             ]
            ],
            "type": "heatmap"
           }
          ],
          "histogram": [
           {
            "marker": {
             "pattern": {
              "fillmode": "overlay",
              "size": 10,
              "solidity": 0.2
             }
            },
            "type": "histogram"
           }
          ],
          "histogram2d": [
           {
            "colorbar": {
             "outlinewidth": 0,
             "ticks": ""
            },
            "colorscale": [
             [
              0,
              "#0d0887"
             ],
             [
              0.1111111111111111,
              "#46039f"
             ],
             [
              0.2222222222222222,
              "#7201a8"
             ],
             [
              0.3333333333333333,
              "#9c179e"
             ],
             [
              0.4444444444444444,
              "#bd3786"
             ],
             [
              0.5555555555555556,
              "#d8576b"
             ],
             [
              0.6666666666666666,
              "#ed7953"
             ],
             [
              0.7777777777777778,
              "#fb9f3a"
             ],
             [
              0.8888888888888888,
              "#fdca26"
             ],
             [
              1,
              "#f0f921"
             ]
            ],
            "type": "histogram2d"
           }
          ],
          "histogram2dcontour": [
           {
            "colorbar": {
             "outlinewidth": 0,
             "ticks": ""
            },
            "colorscale": [
             [
              0,
              "#0d0887"
             ],
             [
              0.1111111111111111,
              "#46039f"
             ],
             [
              0.2222222222222222,
              "#7201a8"
             ],
             [
              0.3333333333333333,
              "#9c179e"
             ],
             [
              0.4444444444444444,
              "#bd3786"
             ],
             [
              0.5555555555555556,
              "#d8576b"
             ],
             [
              0.6666666666666666,
              "#ed7953"
             ],
             [
              0.7777777777777778,
              "#fb9f3a"
             ],
             [
              0.8888888888888888,
              "#fdca26"
             ],
             [
              1,
              "#f0f921"
             ]
            ],
            "type": "histogram2dcontour"
           }
          ],
          "mesh3d": [
           {
            "colorbar": {
             "outlinewidth": 0,
             "ticks": ""
            },
            "type": "mesh3d"
           }
          ],
          "parcoords": [
           {
            "line": {
             "colorbar": {
              "outlinewidth": 0,
              "ticks": ""
             }
            },
            "type": "parcoords"
           }
          ],
          "pie": [
           {
            "automargin": true,
            "type": "pie"
           }
          ],
          "scatter": [
           {
            "fillpattern": {
             "fillmode": "overlay",
             "size": 10,
             "solidity": 0.2
            },
            "type": "scatter"
           }
          ],
          "scatter3d": [
           {
            "line": {
             "colorbar": {
              "outlinewidth": 0,
              "ticks": ""
             }
            },
            "marker": {
             "colorbar": {
              "outlinewidth": 0,
              "ticks": ""
             }
            },
            "type": "scatter3d"
           }
          ],
          "scattercarpet": [
           {
            "marker": {
             "colorbar": {
              "outlinewidth": 0,
              "ticks": ""
             }
            },
            "type": "scattercarpet"
           }
          ],
          "scattergeo": [
           {
            "marker": {
             "colorbar": {
              "outlinewidth": 0,
              "ticks": ""
             }
            },
            "type": "scattergeo"
           }
          ],
          "scattergl": [
           {
            "marker": {
             "colorbar": {
              "outlinewidth": 0,
              "ticks": ""
             }
            },
            "type": "scattergl"
           }
          ],
          "scattermap": [
           {
            "marker": {
             "colorbar": {
              "outlinewidth": 0,
              "ticks": ""
             }
            },
            "type": "scattermap"
           }
          ],
          "scattermapbox": [
           {
            "marker": {
             "colorbar": {
              "outlinewidth": 0,
              "ticks": ""
             }
            },
            "type": "scattermapbox"
           }
          ],
          "scatterpolar": [
           {
            "marker": {
             "colorbar": {
              "outlinewidth": 0,
              "ticks": ""
             }
            },
            "type": "scatterpolar"
           }
          ],
          "scatterpolargl": [
           {
            "marker": {
             "colorbar": {
              "outlinewidth": 0,
              "ticks": ""
             }
            },
            "type": "scatterpolargl"
           }
          ],
          "scatterternary": [
           {
            "marker": {
             "colorbar": {
              "outlinewidth": 0,
              "ticks": ""
             }
            },
            "type": "scatterternary"
           }
          ],
          "surface": [
           {
            "colorbar": {
             "outlinewidth": 0,
             "ticks": ""
            },
            "colorscale": [
             [
              0,
              "#0d0887"
             ],
             [
              0.1111111111111111,
              "#46039f"
             ],
             [
              0.2222222222222222,
              "#7201a8"
             ],
             [
              0.3333333333333333,
              "#9c179e"
             ],
             [
              0.4444444444444444,
              "#bd3786"
             ],
             [
              0.5555555555555556,
              "#d8576b"
             ],
             [
              0.6666666666666666,
              "#ed7953"
             ],
             [
              0.7777777777777778,
              "#fb9f3a"
             ],
             [
              0.8888888888888888,
              "#fdca26"
             ],
             [
              1,
              "#f0f921"
             ]
            ],
            "type": "surface"
           }
          ],
          "table": [
           {
            "cells": {
             "fill": {
              "color": "#EBF0F8"
             },
             "line": {
              "color": "white"
             }
            },
            "header": {
             "fill": {
              "color": "#C8D4E3"
             },
             "line": {
              "color": "white"
             }
            },
            "type": "table"
           }
          ]
         },
         "layout": {
          "annotationdefaults": {
           "arrowcolor": "#2a3f5f",
           "arrowhead": 0,
           "arrowwidth": 1
          },
          "autotypenumbers": "strict",
          "coloraxis": {
           "colorbar": {
            "outlinewidth": 0,
            "ticks": ""
           }
          },
          "colorscale": {
           "diverging": [
            [
             0,
             "#8e0152"
            ],
            [
             0.1,
             "#c51b7d"
            ],
            [
             0.2,
             "#de77ae"
            ],
            [
             0.3,
             "#f1b6da"
            ],
            [
             0.4,
             "#fde0ef"
            ],
            [
             0.5,
             "#f7f7f7"
            ],
            [
             0.6,
             "#e6f5d0"
            ],
            [
             0.7,
             "#b8e186"
            ],
            [
             0.8,
             "#7fbc41"
            ],
            [
             0.9,
             "#4d9221"
            ],
            [
             1,
             "#276419"
            ]
           ],
           "sequential": [
            [
             0,
             "#0d0887"
            ],
            [
             0.1111111111111111,
             "#46039f"
            ],
            [
             0.2222222222222222,
             "#7201a8"
            ],
            [
             0.3333333333333333,
             "#9c179e"
            ],
            [
             0.4444444444444444,
             "#bd3786"
            ],
            [
             0.5555555555555556,
             "#d8576b"
            ],
            [
             0.6666666666666666,
             "#ed7953"
            ],
            [
             0.7777777777777778,
             "#fb9f3a"
            ],
            [
             0.8888888888888888,
             "#fdca26"
            ],
            [
             1,
             "#f0f921"
            ]
           ],
           "sequentialminus": [
            [
             0,
             "#0d0887"
            ],
            [
             0.1111111111111111,
             "#46039f"
            ],
            [
             0.2222222222222222,
             "#7201a8"
            ],
            [
             0.3333333333333333,
             "#9c179e"
            ],
            [
             0.4444444444444444,
             "#bd3786"
            ],
            [
             0.5555555555555556,
             "#d8576b"
            ],
            [
             0.6666666666666666,
             "#ed7953"
            ],
            [
             0.7777777777777778,
             "#fb9f3a"
            ],
            [
             0.8888888888888888,
             "#fdca26"
            ],
            [
             1,
             "#f0f921"
            ]
           ]
          },
          "colorway": [
           "#636efa",
           "#EF553B",
           "#00cc96",
           "#ab63fa",
           "#FFA15A",
           "#19d3f3",
           "#FF6692",
           "#B6E880",
           "#FF97FF",
           "#FECB52"
          ],
          "font": {
           "color": "#2a3f5f"
          },
          "geo": {
           "bgcolor": "white",
           "lakecolor": "white",
           "landcolor": "#E5ECF6",
           "showlakes": true,
           "showland": true,
           "subunitcolor": "white"
          },
          "hoverlabel": {
           "align": "left"
          },
          "hovermode": "closest",
          "mapbox": {
           "style": "light"
          },
          "paper_bgcolor": "white",
          "plot_bgcolor": "#E5ECF6",
          "polar": {
           "angularaxis": {
            "gridcolor": "white",
            "linecolor": "white",
            "ticks": ""
           },
           "bgcolor": "#E5ECF6",
           "radialaxis": {
            "gridcolor": "white",
            "linecolor": "white",
            "ticks": ""
           }
          },
          "scene": {
           "xaxis": {
            "backgroundcolor": "#E5ECF6",
            "gridcolor": "white",
            "gridwidth": 2,
            "linecolor": "white",
            "showbackground": true,
            "ticks": "",
            "zerolinecolor": "white"
           },
           "yaxis": {
            "backgroundcolor": "#E5ECF6",
            "gridcolor": "white",
            "gridwidth": 2,
            "linecolor": "white",
            "showbackground": true,
            "ticks": "",
            "zerolinecolor": "white"
           },
           "zaxis": {
            "backgroundcolor": "#E5ECF6",
            "gridcolor": "white",
            "gridwidth": 2,
            "linecolor": "white",
            "showbackground": true,
            "ticks": "",
            "zerolinecolor": "white"
           }
          },
          "shapedefaults": {
           "line": {
            "color": "#2a3f5f"
           }
          },
          "ternary": {
           "aaxis": {
            "gridcolor": "white",
            "linecolor": "white",
            "ticks": ""
           },
           "baxis": {
            "gridcolor": "white",
            "linecolor": "white",
            "ticks": ""
           },
           "bgcolor": "#E5ECF6",
           "caxis": {
            "gridcolor": "white",
            "linecolor": "white",
            "ticks": ""
           }
          },
          "title": {
           "x": 0.05
          },
          "xaxis": {
           "automargin": true,
           "gridcolor": "white",
           "linecolor": "white",
           "ticks": "",
           "title": {
            "standoff": 15
           },
           "zerolinecolor": "white",
           "zerolinewidth": 2
          },
          "yaxis": {
           "automargin": true,
           "gridcolor": "white",
           "linecolor": "white",
           "ticks": "",
           "title": {
            "standoff": 15
           },
           "zerolinecolor": "white",
           "zerolinewidth": 2
          }
         }
        },
        "xaxis": {
         "anchor": "y",
         "domain": [
          0,
          1
         ],
         "title": {
          "text": "total_bill"
         }
        },
        "xaxis2": {
         "anchor": "y2",
         "domain": [
          0,
          1
         ],
         "matches": "x",
         "showgrid": true,
         "showticklabels": false
        },
        "yaxis": {
         "anchor": "x",
         "domain": [
          0,
          0.7326
         ],
         "title": {
          "text": "count"
         }
        },
        "yaxis2": {
         "anchor": "x2",
         "domain": [
          0.7426,
          1
         ],
         "matches": "y2",
         "showgrid": false,
         "showline": false,
         "showticklabels": false,
         "ticks": ""
        }
       }
      }
     },
     "metadata": {},
     "output_type": "display_data"
    }
   ],
   "source": [
    "df = px.data.tips()\n",
    "fig = px.histogram(df, \n",
    "                   x=\"total_bill\", \n",
    "                   color=\"sex\", \n",
    "                   marginal=\"box\", # can be `box`, `violin`\n",
    "                   hover_data=df.columns)\n",
    "fig.show()"
   ]
  },
  {
   "cell_type": "code",
   "execution_count": null,
   "id": "0623d3e4",
   "metadata": {},
   "outputs": [],
   "source": []
  }
 ],
 "metadata": {
  "kernelspec": {
   "display_name": "base",
   "language": "python",
   "name": "python3"
  },
  "language_info": {
   "codemirror_mode": {
    "name": "ipython",
    "version": 3
   },
   "file_extension": ".py",
   "mimetype": "text/x-python",
   "name": "python",
   "nbconvert_exporter": "python",
   "pygments_lexer": "ipython3",
   "version": "3.11.5"
  }
 },
 "nbformat": 4,
 "nbformat_minor": 5
}
